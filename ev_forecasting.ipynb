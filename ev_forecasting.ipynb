{
 "cells": [
  {
   "cell_type": "code",
   "execution_count": null,
   "id": "65ddae6e",
   "metadata": {},
   "outputs": [],
   "source": [
    "\n",
    "# EV Charging Demand Forecasting – Internship Final Project (Week 3)"
   ]
  },
  {
   "cell_type": "code",
   "execution_count": null,
   "id": "94912b7f",
   "metadata": {},
   "outputs": [],
   "source": [
    "## 📌 Objective\n",
    "To forecast EV charging demand (in kWh) based on features like:\n",
    "- Hour of the day\n",
    "- Day of the week\n",
    "- Whether it's a holiday\n",
    "- Ambient temperature"
   ]
  },
  {
   "cell_type": "code",
   "execution_count": null,
   "id": "a5b7babe",
   "metadata": {},
   "outputs": [],
   "source": [
    "---"
   ]
  },
  {
   "cell_type": "code",
   "execution_count": null,
   "id": "d535aeb1",
   "metadata": {},
   "outputs": [],
   "source": [
    "## 📁 Step 1: Import Libraries"
   ]
  },
  {
   "cell_type": "code",
   "execution_count": null,
   "id": "a91055ae",
   "metadata": {},
   "outputs": [],
   "source": [
    "import pandas as pd\n",
    "import numpy as np\n",
    "import matplotlib.pyplot as plt\n",
    "import seaborn as sns"
   ]
  },
  {
   "cell_type": "code",
   "execution_count": null,
   "id": "6fb123ec",
   "metadata": {},
   "outputs": [],
   "source": [
    "from sklearn.linear_model import LinearRegression\n",
    "from sklearn.ensemble import RandomForestRegressor\n",
    "from sklearn.metrics import mean_squared_error, r2_score\n",
    "from sklearn.model_selection import train_test_split"
   ]
  },
  {
   "cell_type": "code",
   "execution_count": null,
   "id": "e20d4384",
   "metadata": {},
   "outputs": [],
   "source": [
    "\n",
    "## 🧪 Step 2: Create and Visualize Synthetic Dataset"
   ]
  },
  {
   "cell_type": "code",
   "execution_count": null,
   "id": "63beb3de",
   "metadata": {},
   "outputs": [],
   "source": [
    "We simulate a realistic dataset for 500 charging sessions. Demand (in kWh) depends on:\n",
    "- Hourly usage patterns\n",
    "- Holidays\n",
    "- Temperature variation"
   ]
  },
  {
   "cell_type": "code",
   "execution_count": null,
   "id": "57c9c0c4",
   "metadata": {},
   "outputs": [],
   "source": [
    "rng = np.random.default_rng(42)\n",
    "n = 500\n",
    "data = pd.DataFrame({\n",
    "    'hour': rng.integers(0, 24, size=n),\n",
    "    'dayofweek': rng.integers(0, 7, size=n),\n",
    "    'is_holiday': rng.integers(0, 2, size=n),\n",
    "    'temperature': rng.normal(30, 4, size=n).round(1),\n",
    "})\n",
    "data['demand_kWh'] = (\n",
    "    8 + 4 * np.sin(2 * np.pi * data['hour'] / 24) +\n",
    "    2 * data['is_holiday'] +\n",
    "    rng.normal(0, 1.5, size=n)\n",
    ").round(2)\n",
    "outliers = rng.choice(data.index, size=10, replace=False)\n",
    "data.loc[outliers, 'demand_kWh'] *= 3.5"
   ]
  },
  {
   "cell_type": "code",
   "execution_count": null,
   "id": "f3cdd9b6",
   "metadata": {},
   "outputs": [],
   "source": [
    "\n",
    "## 📊 Step 3: Exploratory Data Analysis"
   ]
  },
  {
   "cell_type": "code",
   "execution_count": null,
   "id": "b0fe1324",
   "metadata": {},
   "outputs": [],
   "source": [
    "sns.boxplot(data['demand_kWh'])\n",
    "plt.title(\"EV Charging Demand (with Outliers)\")\n",
    "plt.show()"
   ]
  },
  {
   "cell_type": "code",
   "execution_count": null,
   "id": "e100b23e",
   "metadata": {},
   "outputs": [],
   "source": [
    "sns.heatmap(data.corr(), annot=True, cmap=\"YlGnBu\")\n",
    "plt.title(\"Feature Correlation\")\n",
    "plt.show()"
   ]
  },
  {
   "cell_type": "code",
   "execution_count": null,
   "id": "b01b3c12",
   "metadata": {},
   "outputs": [],
   "source": [
    "\n",
    "## 🧠 Step 4: Model Training – Random Forest Regressor"
   ]
  },
  {
   "cell_type": "code",
   "execution_count": null,
   "id": "221fbad6",
   "metadata": {},
   "outputs": [],
   "source": [
    "X = data[['hour', 'dayofweek', 'is_holiday', 'temperature']]\n",
    "y = data['demand_kWh']\n",
    "X_train, X_test, y_train, y_test = train_test_split(X, y, test_size=0.2, random_state=42)"
   ]
  },
  {
   "cell_type": "code",
   "execution_count": null,
   "id": "fdd190be",
   "metadata": {},
   "outputs": [],
   "source": [
    "rf = RandomForestRegressor(random_state=42)\n",
    "rf.fit(X_train, y_train)\n",
    "y_pred = rf.predict(X_test)"
   ]
  },
  {
   "cell_type": "code",
   "execution_count": null,
   "id": "71d5dcb7",
   "metadata": {},
   "outputs": [],
   "source": [
    "mse = mean_squared_error(y_test, y_pred)\n",
    "r2 = r2_score(y_test, y_pred)"
   ]
  },
  {
   "cell_type": "code",
   "execution_count": null,
   "id": "8bf6c352",
   "metadata": {},
   "outputs": [],
   "source": [
    "print(\"Mean Squared Error (MSE):\", round(mse, 2))\n",
    "print(\"R² Score:\", round(r2, 3))"
   ]
  },
  {
   "cell_type": "code",
   "execution_count": null,
   "id": "fb792ce7",
   "metadata": {},
   "outputs": [],
   "source": [
    "\n",
    "## 📈 Step 5: Predictions Visualization"
   ]
  },
  {
   "cell_type": "code",
   "execution_count": null,
   "id": "4bb8cda2",
   "metadata": {},
   "outputs": [],
   "source": [
    "plt.figure(figsize=(8,5))\n",
    "plt.plot(y_test.values[:30], label='Actual')\n",
    "plt.plot(y_pred[:30], label='Predicted', linestyle='--')\n",
    "plt.title(\"Actual vs Predicted EV Demand (Sample 30)\")\n",
    "plt.xlabel(\"Sample\")\n",
    "plt.ylabel(\"Demand (kWh)\")\n",
    "plt.legend()\n",
    "plt.show()"
   ]
  },
  {
   "cell_type": "code",
   "execution_count": null,
   "id": "898e446b",
   "metadata": {},
   "outputs": [],
   "source": [
    "\n",
    "## ✅ Conclusion"
   ]
  },
  {
   "cell_type": "code",
   "execution_count": null,
   "id": "63d42e21",
   "metadata": {},
   "outputs": [],
   "source": [
    "- Random Forest model predicted demand with a decent baseline (R² ≈ 0.28).\n",
    "- You can improve this by:\n",
    "  - Including real-time traffic or weather data\n",
    "  - Modeling different locations separately\n",
    "  - Using LSTM or XGBoost for time-series prediction\n"
   ]
  }
 ],
 "metadata": {},
 "nbformat": 4,
 "nbformat_minor": 5
}
