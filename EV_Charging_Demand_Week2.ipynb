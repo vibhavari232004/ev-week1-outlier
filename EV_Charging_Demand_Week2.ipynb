{
 "cells": [
  {
   "cell_type": "markdown",
   "id": "352c93b9",
   "metadata": {},
   "source": [
    "# EV Charging Demand Prediction - Week 2\n",
    "This notebook covers the steps for data preprocessing, model training, and saving the model as per Week 2 instructions."
   ]
  },
  {
   "cell_type": "code",
   "execution_count": null,
   "id": "542de7be",
   "metadata": {},
   "outputs": [],
   "source": [
    "import pandas as pd\n",
    "from sklearn.model_selection import train_test_split\n",
    "from sklearn.linear_model import LinearRegression\n",
    "import pickle"
   ]
  },
  {
   "cell_type": "markdown",
   "id": "0f0c5142",
   "metadata": {},
   "source": [
    "## Step 1: Simulate Sample Dataset"
   ]
  },
  {
   "cell_type": "code",
   "execution_count": null,
   "id": "8ec75529",
   "metadata": {},
   "outputs": [],
   "source": [
    "import numpy as np\n",
    "\n",
    "np.random.seed(42)\n",
    "n_samples = 500\n",
    "\n",
    "data = {\n",
    "    'temperature': np.random.normal(30, 5, n_samples),\n",
    "    'humidity': np.random.normal(60, 10, n_samples),\n",
    "    'day_of_week': np.random.randint(0, 7, n_samples),\n",
    "    'hour_of_day': np.random.randint(0, 24, n_samples),\n",
    "    'holiday': np.random.randint(0, 2, n_samples),\n",
    "    'demand_kWh': np.random.normal(200, 50, n_samples)\n",
    "}\n",
    "\n",
    "df = pd.DataFrame(data)\n",
    "df.head()"
   ]
  },
  {
   "cell_type": "markdown",
   "id": "3c0a5555",
   "metadata": {},
   "source": [
    "## Step 2: Save Preprocessed Dataset"
   ]
  },
  {
   "cell_type": "code",
   "execution_count": null,
   "id": "057819c0",
   "metadata": {},
   "outputs": [],
   "source": [
    "df.to_csv('preprocessed_data.csv', index=False)"
   ]
  },
  {
   "cell_type": "markdown",
   "id": "7364a984",
   "metadata": {},
   "source": [
    "## Step 3: Train-Test Split"
   ]
  },
  {
   "cell_type": "code",
   "execution_count": null,
   "id": "259fde27",
   "metadata": {},
   "outputs": [],
   "source": [
    "X = df.drop(\"demand_kWh\", axis=1)\n",
    "y = df[\"demand_kWh\"]\n",
    "\n",
    "X_train, X_test, y_train, y_test = train_test_split(X, y, test_size=0.2, random_state=42)"
   ]
  },
  {
   "cell_type": "markdown",
   "id": "18e2cd27",
   "metadata": {},
   "source": [
    "## Step 4: Train Linear Regression Model"
   ]
  },
  {
   "cell_type": "code",
   "execution_count": null,
   "id": "93c488f0",
   "metadata": {},
   "outputs": [],
   "source": [
    "model = LinearRegression()\n",
    "model.fit(X_train, y_train)"
   ]
  },
  {
   "cell_type": "markdown",
   "id": "899860be",
   "metadata": {},
   "source": [
    "## Step 5: Save Model using Pickle"
   ]
  },
  {
   "cell_type": "code",
   "execution_count": null,
   "id": "d855b54c",
   "metadata": {},
   "outputs": [],
   "source": [
    "with open(\"ev_model.pkl\", \"wb\") as f:\n",
    "    pickle.dump(model, f)"
   ]
  }
 ],
 "metadata": {},
 "nbformat": 4,
 "nbformat_minor": 5
}
